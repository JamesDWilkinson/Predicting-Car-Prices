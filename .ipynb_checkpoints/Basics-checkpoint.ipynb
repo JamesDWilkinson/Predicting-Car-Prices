{
 "cells": [
  {
   "cell_type": "markdown",
   "metadata": {},
   "source": [
    "# Predicting Car Prices\n",
    "\n",
    "dataset documentation can be found [here](https://archive.ics.uci.edu/ml/datasets/automobile)"
   ]
  },
  {
   "cell_type": "code",
   "execution_count": 1,
   "metadata": {},
   "outputs": [
    {
     "data": {
      "text/html": [
       "<div>\n",
       "<style scoped>\n",
       "    .dataframe tbody tr th:only-of-type {\n",
       "        vertical-align: middle;\n",
       "    }\n",
       "\n",
       "    .dataframe tbody tr th {\n",
       "        vertical-align: top;\n",
       "    }\n",
       "\n",
       "    .dataframe thead th {\n",
       "        text-align: right;\n",
       "    }\n",
       "</style>\n",
       "<table border=\"1\" class=\"dataframe\">\n",
       "  <thead>\n",
       "    <tr style=\"text-align: right;\">\n",
       "      <th></th>\n",
       "      <th>symboling</th>\n",
       "      <th>normalized-losses</th>\n",
       "      <th>make</th>\n",
       "      <th>fuel-type</th>\n",
       "      <th>aspiration</th>\n",
       "      <th>num-of-doors</th>\n",
       "      <th>body-style</th>\n",
       "      <th>drive-wheels</th>\n",
       "      <th>engine-location</th>\n",
       "      <th>wheel-base</th>\n",
       "      <th>...</th>\n",
       "      <th>engine-size</th>\n",
       "      <th>fuel-system</th>\n",
       "      <th>bore</th>\n",
       "      <th>stroke</th>\n",
       "      <th>compression-rate</th>\n",
       "      <th>horsepower</th>\n",
       "      <th>peak-rpm</th>\n",
       "      <th>city-mpg</th>\n",
       "      <th>highway-mpg</th>\n",
       "      <th>price</th>\n",
       "    </tr>\n",
       "  </thead>\n",
       "  <tbody>\n",
       "    <tr>\n",
       "      <th>0</th>\n",
       "      <td>3</td>\n",
       "      <td>?</td>\n",
       "      <td>alfa-romero</td>\n",
       "      <td>gas</td>\n",
       "      <td>std</td>\n",
       "      <td>two</td>\n",
       "      <td>convertible</td>\n",
       "      <td>rwd</td>\n",
       "      <td>front</td>\n",
       "      <td>88.6</td>\n",
       "      <td>...</td>\n",
       "      <td>130</td>\n",
       "      <td>mpfi</td>\n",
       "      <td>3.47</td>\n",
       "      <td>2.68</td>\n",
       "      <td>9.0</td>\n",
       "      <td>111</td>\n",
       "      <td>5000</td>\n",
       "      <td>21</td>\n",
       "      <td>27</td>\n",
       "      <td>13495</td>\n",
       "    </tr>\n",
       "    <tr>\n",
       "      <th>1</th>\n",
       "      <td>3</td>\n",
       "      <td>?</td>\n",
       "      <td>alfa-romero</td>\n",
       "      <td>gas</td>\n",
       "      <td>std</td>\n",
       "      <td>two</td>\n",
       "      <td>convertible</td>\n",
       "      <td>rwd</td>\n",
       "      <td>front</td>\n",
       "      <td>88.6</td>\n",
       "      <td>...</td>\n",
       "      <td>130</td>\n",
       "      <td>mpfi</td>\n",
       "      <td>3.47</td>\n",
       "      <td>2.68</td>\n",
       "      <td>9.0</td>\n",
       "      <td>111</td>\n",
       "      <td>5000</td>\n",
       "      <td>21</td>\n",
       "      <td>27</td>\n",
       "      <td>16500</td>\n",
       "    </tr>\n",
       "    <tr>\n",
       "      <th>2</th>\n",
       "      <td>1</td>\n",
       "      <td>?</td>\n",
       "      <td>alfa-romero</td>\n",
       "      <td>gas</td>\n",
       "      <td>std</td>\n",
       "      <td>two</td>\n",
       "      <td>hatchback</td>\n",
       "      <td>rwd</td>\n",
       "      <td>front</td>\n",
       "      <td>94.5</td>\n",
       "      <td>...</td>\n",
       "      <td>152</td>\n",
       "      <td>mpfi</td>\n",
       "      <td>2.68</td>\n",
       "      <td>3.47</td>\n",
       "      <td>9.0</td>\n",
       "      <td>154</td>\n",
       "      <td>5000</td>\n",
       "      <td>19</td>\n",
       "      <td>26</td>\n",
       "      <td>16500</td>\n",
       "    </tr>\n",
       "    <tr>\n",
       "      <th>3</th>\n",
       "      <td>2</td>\n",
       "      <td>164</td>\n",
       "      <td>audi</td>\n",
       "      <td>gas</td>\n",
       "      <td>std</td>\n",
       "      <td>four</td>\n",
       "      <td>sedan</td>\n",
       "      <td>fwd</td>\n",
       "      <td>front</td>\n",
       "      <td>99.8</td>\n",
       "      <td>...</td>\n",
       "      <td>109</td>\n",
       "      <td>mpfi</td>\n",
       "      <td>3.19</td>\n",
       "      <td>3.40</td>\n",
       "      <td>10.0</td>\n",
       "      <td>102</td>\n",
       "      <td>5500</td>\n",
       "      <td>24</td>\n",
       "      <td>30</td>\n",
       "      <td>13950</td>\n",
       "    </tr>\n",
       "    <tr>\n",
       "      <th>4</th>\n",
       "      <td>2</td>\n",
       "      <td>164</td>\n",
       "      <td>audi</td>\n",
       "      <td>gas</td>\n",
       "      <td>std</td>\n",
       "      <td>four</td>\n",
       "      <td>sedan</td>\n",
       "      <td>4wd</td>\n",
       "      <td>front</td>\n",
       "      <td>99.4</td>\n",
       "      <td>...</td>\n",
       "      <td>136</td>\n",
       "      <td>mpfi</td>\n",
       "      <td>3.19</td>\n",
       "      <td>3.40</td>\n",
       "      <td>8.0</td>\n",
       "      <td>115</td>\n",
       "      <td>5500</td>\n",
       "      <td>18</td>\n",
       "      <td>22</td>\n",
       "      <td>17450</td>\n",
       "    </tr>\n",
       "  </tbody>\n",
       "</table>\n",
       "<p>5 rows × 26 columns</p>\n",
       "</div>"
      ],
      "text/plain": [
       "   symboling normalized-losses         make fuel-type aspiration num-of-doors  \\\n",
       "0          3                 ?  alfa-romero       gas        std          two   \n",
       "1          3                 ?  alfa-romero       gas        std          two   \n",
       "2          1                 ?  alfa-romero       gas        std          two   \n",
       "3          2               164         audi       gas        std         four   \n",
       "4          2               164         audi       gas        std         four   \n",
       "\n",
       "    body-style drive-wheels engine-location  wheel-base  ...  engine-size  \\\n",
       "0  convertible          rwd           front        88.6  ...          130   \n",
       "1  convertible          rwd           front        88.6  ...          130   \n",
       "2    hatchback          rwd           front        94.5  ...          152   \n",
       "3        sedan          fwd           front        99.8  ...          109   \n",
       "4        sedan          4wd           front        99.4  ...          136   \n",
       "\n",
       "   fuel-system  bore  stroke compression-rate horsepower  peak-rpm city-mpg  \\\n",
       "0         mpfi  3.47    2.68              9.0        111      5000       21   \n",
       "1         mpfi  3.47    2.68              9.0        111      5000       21   \n",
       "2         mpfi  2.68    3.47              9.0        154      5000       19   \n",
       "3         mpfi  3.19    3.40             10.0        102      5500       24   \n",
       "4         mpfi  3.19    3.40              8.0        115      5500       18   \n",
       "\n",
       "  highway-mpg  price  \n",
       "0          27  13495  \n",
       "1          27  16500  \n",
       "2          26  16500  \n",
       "3          30  13950  \n",
       "4          22  17450  \n",
       "\n",
       "[5 rows x 26 columns]"
      ]
     },
     "execution_count": 1,
     "metadata": {},
     "output_type": "execute_result"
    }
   ],
   "source": [
    "import pandas as pd\n",
    "import numpy as np\n",
    "\n",
    "columns = ['symboling', 'normalized-losses', 'make', 'fuel-type', 'aspiration', 'num-of-doors', 'body-style', \n",
    "        'drive-wheels', 'engine-location', 'wheel-base', 'length', 'width', 'height', 'curb-weight', 'engine-type', \n",
    "        'num-of-cylinders', 'engine-size', 'fuel-system', 'bore', 'stroke', 'compression-rate', 'horsepower', 'peak-rpm', 'city-mpg', 'highway-mpg', 'price']\n",
    "cars = pd.read_csv('imports-85.data', names=columns)\n",
    "\n",
    "cars.head()"
   ]
  },
  {
   "cell_type": "markdown",
   "metadata": {},
   "source": [
    "# Reference\n",
    "\n",
    "`normalized-losses`: relative average loss payment per insured vehicle year. This value is normalized for all autos within a particular size classification (two-door small, station wagons, sports/speciality, etc...), and represents the average loss per car per year.\n",
    "\n",
    "# Cleaning Data: Numeric Data Only\n",
    "\n",
    "Since we will be using a K-Neareast Neighbors Machine Learning algorithm to predict car prices, we need to sort out which columns of our data are numeric. Luckily, the [documentation](https://archive.ics.uci.edu/ml/datasets/automobile) contains a download link to a .names file that has a list of the columns and which ones contain continuous values (including their ranges).\n",
    "\n",
    "This is useful because some of the columns with continuous values are actually cast as a string in our dataframe, and some of the columns have integers but are not the kind of numeric representations we want for KNN."
   ]
  },
  {
   "cell_type": "code",
   "execution_count": 2,
   "metadata": {
    "scrolled": true
   },
   "outputs": [
    {
     "name": "stdout",
     "output_type": "stream",
     "text": [
      "<class 'pandas.core.frame.DataFrame'>\n",
      "RangeIndex: 205 entries, 0 to 204\n",
      "Data columns (total 15 columns):\n",
      " #   Column             Non-Null Count  Dtype  \n",
      "---  ------             --------------  -----  \n",
      " 0   normalized-losses  205 non-null    object \n",
      " 1   wheel-base         205 non-null    float64\n",
      " 2   length             205 non-null    float64\n",
      " 3   width              205 non-null    float64\n",
      " 4   height             205 non-null    float64\n",
      " 5   curb-weight        205 non-null    int64  \n",
      " 6   engine-size        205 non-null    int64  \n",
      " 7   bore               205 non-null    object \n",
      " 8   stroke             205 non-null    object \n",
      " 9   compression-rate   205 non-null    float64\n",
      " 10  horsepower         205 non-null    object \n",
      " 11  peak-rpm           205 non-null    object \n",
      " 12  city-mpg           205 non-null    int64  \n",
      " 13  highway-mpg        205 non-null    int64  \n",
      " 14  price              205 non-null    object \n",
      "dtypes: float64(5), int64(4), object(6)\n",
      "memory usage: 24.1+ KB\n"
     ]
    }
   ],
   "source": [
    "# We'll make a new dataframe that only contains numeric columns\n",
    "continuous_values_columns = ['normalized-losses', 'wheel-base', 'length', 'width', 'height', 'curb-weight', 'engine-size', 'bore', 'stroke', 'compression-rate', 'horsepower', 'peak-rpm', 'city-mpg', 'highway-mpg', 'price']\n",
    "cars_numeric = cars.copy()[continuous_values_columns]\n",
    "\n",
    "cars_numeric.info()"
   ]
  },
  {
   "cell_type": "markdown",
   "metadata": {},
   "source": [
    "# Cleaning Data: Numeric Data Should be a Numeric Data Type\n",
    "\n",
    "We don't want objects in our columns; we want int64 or float64. The first thing in our way is that missing attribute values are denoted by a `?`. Luckily, again the .names file in the [documentation](https://archive.ics.uci.edu/ml/datasets/automobile) has us covered, letting us know that this is perfectly intentional and probably consistent, so let's replace all `?`'s and see if we can convert everything to a float."
   ]
  },
  {
   "cell_type": "code",
   "execution_count": 3,
   "metadata": {},
   "outputs": [
    {
     "data": {
      "text/html": [
       "<div>\n",
       "<style scoped>\n",
       "    .dataframe tbody tr th:only-of-type {\n",
       "        vertical-align: middle;\n",
       "    }\n",
       "\n",
       "    .dataframe tbody tr th {\n",
       "        vertical-align: top;\n",
       "    }\n",
       "\n",
       "    .dataframe thead th {\n",
       "        text-align: right;\n",
       "    }\n",
       "</style>\n",
       "<table border=\"1\" class=\"dataframe\">\n",
       "  <thead>\n",
       "    <tr style=\"text-align: right;\">\n",
       "      <th></th>\n",
       "      <th>normalized-losses</th>\n",
       "      <th>wheel-base</th>\n",
       "      <th>length</th>\n",
       "      <th>width</th>\n",
       "      <th>height</th>\n",
       "      <th>curb-weight</th>\n",
       "      <th>engine-size</th>\n",
       "      <th>bore</th>\n",
       "      <th>stroke</th>\n",
       "      <th>compression-rate</th>\n",
       "      <th>horsepower</th>\n",
       "      <th>peak-rpm</th>\n",
       "      <th>city-mpg</th>\n",
       "      <th>highway-mpg</th>\n",
       "      <th>price</th>\n",
       "    </tr>\n",
       "  </thead>\n",
       "  <tbody>\n",
       "    <tr>\n",
       "      <th>0</th>\n",
       "      <td>NaN</td>\n",
       "      <td>88.6</td>\n",
       "      <td>168.8</td>\n",
       "      <td>64.1</td>\n",
       "      <td>48.8</td>\n",
       "      <td>2548.0</td>\n",
       "      <td>130.0</td>\n",
       "      <td>3.47</td>\n",
       "      <td>2.68</td>\n",
       "      <td>9.0</td>\n",
       "      <td>111.0</td>\n",
       "      <td>5000.0</td>\n",
       "      <td>21.0</td>\n",
       "      <td>27.0</td>\n",
       "      <td>13495.0</td>\n",
       "    </tr>\n",
       "    <tr>\n",
       "      <th>1</th>\n",
       "      <td>NaN</td>\n",
       "      <td>88.6</td>\n",
       "      <td>168.8</td>\n",
       "      <td>64.1</td>\n",
       "      <td>48.8</td>\n",
       "      <td>2548.0</td>\n",
       "      <td>130.0</td>\n",
       "      <td>3.47</td>\n",
       "      <td>2.68</td>\n",
       "      <td>9.0</td>\n",
       "      <td>111.0</td>\n",
       "      <td>5000.0</td>\n",
       "      <td>21.0</td>\n",
       "      <td>27.0</td>\n",
       "      <td>16500.0</td>\n",
       "    </tr>\n",
       "    <tr>\n",
       "      <th>2</th>\n",
       "      <td>NaN</td>\n",
       "      <td>94.5</td>\n",
       "      <td>171.2</td>\n",
       "      <td>65.5</td>\n",
       "      <td>52.4</td>\n",
       "      <td>2823.0</td>\n",
       "      <td>152.0</td>\n",
       "      <td>2.68</td>\n",
       "      <td>3.47</td>\n",
       "      <td>9.0</td>\n",
       "      <td>154.0</td>\n",
       "      <td>5000.0</td>\n",
       "      <td>19.0</td>\n",
       "      <td>26.0</td>\n",
       "      <td>16500.0</td>\n",
       "    </tr>\n",
       "    <tr>\n",
       "      <th>3</th>\n",
       "      <td>164.0</td>\n",
       "      <td>99.8</td>\n",
       "      <td>176.6</td>\n",
       "      <td>66.2</td>\n",
       "      <td>54.3</td>\n",
       "      <td>2337.0</td>\n",
       "      <td>109.0</td>\n",
       "      <td>3.19</td>\n",
       "      <td>3.40</td>\n",
       "      <td>10.0</td>\n",
       "      <td>102.0</td>\n",
       "      <td>5500.0</td>\n",
       "      <td>24.0</td>\n",
       "      <td>30.0</td>\n",
       "      <td>13950.0</td>\n",
       "    </tr>\n",
       "    <tr>\n",
       "      <th>4</th>\n",
       "      <td>164.0</td>\n",
       "      <td>99.4</td>\n",
       "      <td>176.6</td>\n",
       "      <td>66.4</td>\n",
       "      <td>54.3</td>\n",
       "      <td>2824.0</td>\n",
       "      <td>136.0</td>\n",
       "      <td>3.19</td>\n",
       "      <td>3.40</td>\n",
       "      <td>8.0</td>\n",
       "      <td>115.0</td>\n",
       "      <td>5500.0</td>\n",
       "      <td>18.0</td>\n",
       "      <td>22.0</td>\n",
       "      <td>17450.0</td>\n",
       "    </tr>\n",
       "  </tbody>\n",
       "</table>\n",
       "</div>"
      ],
      "text/plain": [
       "   normalized-losses  wheel-base  length  width  height  curb-weight  \\\n",
       "0                NaN        88.6   168.8   64.1    48.8       2548.0   \n",
       "1                NaN        88.6   168.8   64.1    48.8       2548.0   \n",
       "2                NaN        94.5   171.2   65.5    52.4       2823.0   \n",
       "3              164.0        99.8   176.6   66.2    54.3       2337.0   \n",
       "4              164.0        99.4   176.6   66.4    54.3       2824.0   \n",
       "\n",
       "   engine-size  bore  stroke  compression-rate  horsepower  peak-rpm  \\\n",
       "0        130.0  3.47    2.68               9.0       111.0    5000.0   \n",
       "1        130.0  3.47    2.68               9.0       111.0    5000.0   \n",
       "2        152.0  2.68    3.47               9.0       154.0    5000.0   \n",
       "3        109.0  3.19    3.40              10.0       102.0    5500.0   \n",
       "4        136.0  3.19    3.40               8.0       115.0    5500.0   \n",
       "\n",
       "   city-mpg  highway-mpg    price  \n",
       "0      21.0         27.0  13495.0  \n",
       "1      21.0         27.0  16500.0  \n",
       "2      19.0         26.0  16500.0  \n",
       "3      24.0         30.0  13950.0  \n",
       "4      18.0         22.0  17450.0  "
      ]
     },
     "execution_count": 3,
     "metadata": {},
     "output_type": "execute_result"
    }
   ],
   "source": [
    "cars_numeric = cars_numeric.replace({'?': np.nan})\n",
    "cars_numeric = cars_numeric.astype(float)\n",
    "cars_numeric.head()"
   ]
  },
  {
   "cell_type": "code",
   "execution_count": 4,
   "metadata": {},
   "outputs": [
    {
     "data": {
      "text/plain": [
       "normalized-losses    41\n",
       "wheel-base            0\n",
       "length                0\n",
       "width                 0\n",
       "height                0\n",
       "curb-weight           0\n",
       "engine-size           0\n",
       "bore                  4\n",
       "stroke                4\n",
       "compression-rate      0\n",
       "horsepower            2\n",
       "peak-rpm              2\n",
       "city-mpg              0\n",
       "highway-mpg           0\n",
       "price                 4\n",
       "dtype: int64"
      ]
     },
     "execution_count": 4,
     "metadata": {},
     "output_type": "execute_result"
    }
   ],
   "source": [
    "cars_numeric.isnull().sum()"
   ]
  },
  {
   "cell_type": "markdown",
   "metadata": {},
   "source": [
    "This matches perfectly with what the documentation tells us, so we know we are on the right track."
   ]
  },
  {
   "cell_type": "markdown",
   "metadata": {},
   "source": [
    "# Cleaning Data: Removing/Replacing All Missing Values\n",
    "\n",
    "First we have to decide how to deal with our missing values. Since our `price` column will be the target for our KNN algorithm, we can't accurately fill in the price since that is the objective of this project in the first place, and there aren't that many missing values anyway, we can safely remove any rows missing the price info."
   ]
  },
  {
   "cell_type": "code",
   "execution_count": 5,
   "metadata": {},
   "outputs": [
    {
     "data": {
      "text/plain": [
       "normalized-losses    37\n",
       "wheel-base            0\n",
       "length                0\n",
       "width                 0\n",
       "height                0\n",
       "curb-weight           0\n",
       "engine-size           0\n",
       "bore                  4\n",
       "stroke                4\n",
       "compression-rate      0\n",
       "horsepower            2\n",
       "peak-rpm              2\n",
       "city-mpg              0\n",
       "highway-mpg           0\n",
       "price                 0\n",
       "dtype: int64"
      ]
     },
     "execution_count": 5,
     "metadata": {},
     "output_type": "execute_result"
    }
   ],
   "source": [
    "cars_numeric.dropna(subset=['price'], inplace=True)\n",
    "cars_numeric.isnull().sum()"
   ]
  },
  {
   "cell_type": "markdown",
   "metadata": {},
   "source": [
    "Next, we'll check to see how many rows there are with two or more missing values."
   ]
  },
  {
   "cell_type": "code",
   "execution_count": 6,
   "metadata": {},
   "outputs": [
    {
     "data": {
      "text/plain": [
       "55     2\n",
       "56     2\n",
       "57     2\n",
       "58     2\n",
       "130    3\n",
       "131    3\n",
       "dtype: int64"
      ]
     },
     "execution_count": 6,
     "metadata": {},
     "output_type": "execute_result"
    }
   ],
   "source": [
    "null_row_counts = cars_numeric.isnull().sum(axis=1)\n",
    "multi_null_rows = null_row_counts[null_row_counts > 1]\n",
    "multi_null_rows"
   ]
  },
  {
   "cell_type": "markdown",
   "metadata": {},
   "source": [
    "We'll drop all of these rows."
   ]
  },
  {
   "cell_type": "code",
   "execution_count": 7,
   "metadata": {},
   "outputs": [
    {
     "data": {
      "text/plain": [
       "normalized-losses    35\n",
       "wheel-base            0\n",
       "length                0\n",
       "width                 0\n",
       "height                0\n",
       "curb-weight           0\n",
       "engine-size           0\n",
       "bore                  0\n",
       "stroke                0\n",
       "compression-rate      0\n",
       "horsepower            0\n",
       "peak-rpm              0\n",
       "city-mpg              0\n",
       "highway-mpg           0\n",
       "price                 0\n",
       "dtype: int64"
      ]
     },
     "execution_count": 7,
     "metadata": {},
     "output_type": "execute_result"
    }
   ],
   "source": [
    "cars_numeric.drop(multi_null_rows.index, axis=0, inplace=True)\n",
    "cars_numeric.isnull().sum()"
   ]
  },
  {
   "cell_type": "markdown",
   "metadata": {},
   "source": [
    "Now we are left with our only missing values being in the `normalized-losses` column. It would be a shame to drop all 35 rows of good data that go with those missing values, so we'll fill those in with the average value for the column."
   ]
  },
  {
   "cell_type": "code",
   "execution_count": 8,
   "metadata": {},
   "outputs": [
    {
     "data": {
      "text/plain": [
       "normalized-losses    0\n",
       "wheel-base           0\n",
       "length               0\n",
       "width                0\n",
       "height               0\n",
       "curb-weight          0\n",
       "engine-size          0\n",
       "bore                 0\n",
       "stroke               0\n",
       "compression-rate     0\n",
       "horsepower           0\n",
       "peak-rpm             0\n",
       "city-mpg             0\n",
       "highway-mpg          0\n",
       "price                0\n",
       "dtype: int64"
      ]
     },
     "execution_count": 8,
     "metadata": {},
     "output_type": "execute_result"
    }
   ],
   "source": [
    "cars_numeric['normalized-losses'].fillna(\n",
    "    cars_numeric['normalized-losses'].mean(), inplace=True,\n",
    ")\n",
    "cars_numeric.isnull().sum()"
   ]
  },
  {
   "cell_type": "markdown",
   "metadata": {},
   "source": [
    "And next, we should normalize all of our data so that it ranges from 0 to 1, that way disproportionately large changes in certain columns won't be weighted as of higher importance.\n",
    "\n",
    "The exception is the target column because we need the original values."
   ]
  },
  {
   "cell_type": "code",
   "execution_count": 9,
   "metadata": {},
   "outputs": [
    {
     "data": {
      "text/html": [
       "<div>\n",
       "<style scoped>\n",
       "    .dataframe tbody tr th:only-of-type {\n",
       "        vertical-align: middle;\n",
       "    }\n",
       "\n",
       "    .dataframe tbody tr th {\n",
       "        vertical-align: top;\n",
       "    }\n",
       "\n",
       "    .dataframe thead th {\n",
       "        text-align: right;\n",
       "    }\n",
       "</style>\n",
       "<table border=\"1\" class=\"dataframe\">\n",
       "  <thead>\n",
       "    <tr style=\"text-align: right;\">\n",
       "      <th></th>\n",
       "      <th>normalized-losses</th>\n",
       "      <th>wheel-base</th>\n",
       "      <th>length</th>\n",
       "      <th>width</th>\n",
       "      <th>height</th>\n",
       "      <th>curb-weight</th>\n",
       "      <th>engine-size</th>\n",
       "      <th>bore</th>\n",
       "      <th>stroke</th>\n",
       "      <th>compression-rate</th>\n",
       "      <th>horsepower</th>\n",
       "      <th>peak-rpm</th>\n",
       "      <th>city-mpg</th>\n",
       "      <th>highway-mpg</th>\n",
       "      <th>price</th>\n",
       "    </tr>\n",
       "  </thead>\n",
       "  <tbody>\n",
       "    <tr>\n",
       "      <th>0</th>\n",
       "      <td>0.294764</td>\n",
       "      <td>0.058309</td>\n",
       "      <td>0.413433</td>\n",
       "      <td>0.324786</td>\n",
       "      <td>0.083333</td>\n",
       "      <td>0.411171</td>\n",
       "      <td>0.260377</td>\n",
       "      <td>0.664286</td>\n",
       "      <td>0.290476</td>\n",
       "      <td>0.12500</td>\n",
       "      <td>0.294393</td>\n",
       "      <td>0.346939</td>\n",
       "      <td>0.222222</td>\n",
       "      <td>0.289474</td>\n",
       "      <td>13495.0</td>\n",
       "    </tr>\n",
       "    <tr>\n",
       "      <th>1</th>\n",
       "      <td>0.294764</td>\n",
       "      <td>0.058309</td>\n",
       "      <td>0.413433</td>\n",
       "      <td>0.324786</td>\n",
       "      <td>0.083333</td>\n",
       "      <td>0.411171</td>\n",
       "      <td>0.260377</td>\n",
       "      <td>0.664286</td>\n",
       "      <td>0.290476</td>\n",
       "      <td>0.12500</td>\n",
       "      <td>0.294393</td>\n",
       "      <td>0.346939</td>\n",
       "      <td>0.222222</td>\n",
       "      <td>0.289474</td>\n",
       "      <td>16500.0</td>\n",
       "    </tr>\n",
       "    <tr>\n",
       "      <th>2</th>\n",
       "      <td>0.294764</td>\n",
       "      <td>0.230321</td>\n",
       "      <td>0.449254</td>\n",
       "      <td>0.444444</td>\n",
       "      <td>0.383333</td>\n",
       "      <td>0.517843</td>\n",
       "      <td>0.343396</td>\n",
       "      <td>0.100000</td>\n",
       "      <td>0.666667</td>\n",
       "      <td>0.12500</td>\n",
       "      <td>0.495327</td>\n",
       "      <td>0.346939</td>\n",
       "      <td>0.166667</td>\n",
       "      <td>0.263158</td>\n",
       "      <td>16500.0</td>\n",
       "    </tr>\n",
       "    <tr>\n",
       "      <th>3</th>\n",
       "      <td>0.518325</td>\n",
       "      <td>0.384840</td>\n",
       "      <td>0.529851</td>\n",
       "      <td>0.504274</td>\n",
       "      <td>0.541667</td>\n",
       "      <td>0.329325</td>\n",
       "      <td>0.181132</td>\n",
       "      <td>0.464286</td>\n",
       "      <td>0.633333</td>\n",
       "      <td>0.18750</td>\n",
       "      <td>0.252336</td>\n",
       "      <td>0.551020</td>\n",
       "      <td>0.305556</td>\n",
       "      <td>0.368421</td>\n",
       "      <td>13950.0</td>\n",
       "    </tr>\n",
       "    <tr>\n",
       "      <th>4</th>\n",
       "      <td>0.518325</td>\n",
       "      <td>0.373178</td>\n",
       "      <td>0.529851</td>\n",
       "      <td>0.521368</td>\n",
       "      <td>0.541667</td>\n",
       "      <td>0.518231</td>\n",
       "      <td>0.283019</td>\n",
       "      <td>0.464286</td>\n",
       "      <td>0.633333</td>\n",
       "      <td>0.06250</td>\n",
       "      <td>0.313084</td>\n",
       "      <td>0.551020</td>\n",
       "      <td>0.138889</td>\n",
       "      <td>0.157895</td>\n",
       "      <td>17450.0</td>\n",
       "    </tr>\n",
       "    <tr>\n",
       "      <th>...</th>\n",
       "      <td>...</td>\n",
       "      <td>...</td>\n",
       "      <td>...</td>\n",
       "      <td>...</td>\n",
       "      <td>...</td>\n",
       "      <td>...</td>\n",
       "      <td>...</td>\n",
       "      <td>...</td>\n",
       "      <td>...</td>\n",
       "      <td>...</td>\n",
       "      <td>...</td>\n",
       "      <td>...</td>\n",
       "      <td>...</td>\n",
       "      <td>...</td>\n",
       "      <td>...</td>\n",
       "    </tr>\n",
       "    <tr>\n",
       "      <th>200</th>\n",
       "      <td>0.157068</td>\n",
       "      <td>0.655977</td>\n",
       "      <td>0.711940</td>\n",
       "      <td>0.735043</td>\n",
       "      <td>0.641667</td>\n",
       "      <td>0.567882</td>\n",
       "      <td>0.301887</td>\n",
       "      <td>0.885714</td>\n",
       "      <td>0.514286</td>\n",
       "      <td>0.15625</td>\n",
       "      <td>0.308411</td>\n",
       "      <td>0.510204</td>\n",
       "      <td>0.277778</td>\n",
       "      <td>0.315789</td>\n",
       "      <td>16845.0</td>\n",
       "    </tr>\n",
       "    <tr>\n",
       "      <th>201</th>\n",
       "      <td>0.157068</td>\n",
       "      <td>0.655977</td>\n",
       "      <td>0.711940</td>\n",
       "      <td>0.726496</td>\n",
       "      <td>0.641667</td>\n",
       "      <td>0.605508</td>\n",
       "      <td>0.301887</td>\n",
       "      <td>0.885714</td>\n",
       "      <td>0.514286</td>\n",
       "      <td>0.10625</td>\n",
       "      <td>0.523364</td>\n",
       "      <td>0.469388</td>\n",
       "      <td>0.166667</td>\n",
       "      <td>0.236842</td>\n",
       "      <td>19045.0</td>\n",
       "    </tr>\n",
       "    <tr>\n",
       "      <th>202</th>\n",
       "      <td>0.157068</td>\n",
       "      <td>0.655977</td>\n",
       "      <td>0.711940</td>\n",
       "      <td>0.735043</td>\n",
       "      <td>0.641667</td>\n",
       "      <td>0.591156</td>\n",
       "      <td>0.422642</td>\n",
       "      <td>0.742857</td>\n",
       "      <td>0.380952</td>\n",
       "      <td>0.11250</td>\n",
       "      <td>0.401869</td>\n",
       "      <td>0.551020</td>\n",
       "      <td>0.138889</td>\n",
       "      <td>0.184211</td>\n",
       "      <td>21485.0</td>\n",
       "    </tr>\n",
       "    <tr>\n",
       "      <th>203</th>\n",
       "      <td>0.157068</td>\n",
       "      <td>0.655977</td>\n",
       "      <td>0.711940</td>\n",
       "      <td>0.735043</td>\n",
       "      <td>0.641667</td>\n",
       "      <td>0.670675</td>\n",
       "      <td>0.316981</td>\n",
       "      <td>0.335714</td>\n",
       "      <td>0.633333</td>\n",
       "      <td>1.00000</td>\n",
       "      <td>0.271028</td>\n",
       "      <td>0.265306</td>\n",
       "      <td>0.361111</td>\n",
       "      <td>0.289474</td>\n",
       "      <td>22470.0</td>\n",
       "    </tr>\n",
       "    <tr>\n",
       "      <th>204</th>\n",
       "      <td>0.157068</td>\n",
       "      <td>0.655977</td>\n",
       "      <td>0.711940</td>\n",
       "      <td>0.735043</td>\n",
       "      <td>0.641667</td>\n",
       "      <td>0.610551</td>\n",
       "      <td>0.301887</td>\n",
       "      <td>0.885714</td>\n",
       "      <td>0.514286</td>\n",
       "      <td>0.15625</td>\n",
       "      <td>0.308411</td>\n",
       "      <td>0.510204</td>\n",
       "      <td>0.166667</td>\n",
       "      <td>0.236842</td>\n",
       "      <td>22625.0</td>\n",
       "    </tr>\n",
       "  </tbody>\n",
       "</table>\n",
       "<p>195 rows × 15 columns</p>\n",
       "</div>"
      ],
      "text/plain": [
       "     normalized-losses  wheel-base    length     width    height  curb-weight  \\\n",
       "0             0.294764    0.058309  0.413433  0.324786  0.083333     0.411171   \n",
       "1             0.294764    0.058309  0.413433  0.324786  0.083333     0.411171   \n",
       "2             0.294764    0.230321  0.449254  0.444444  0.383333     0.517843   \n",
       "3             0.518325    0.384840  0.529851  0.504274  0.541667     0.329325   \n",
       "4             0.518325    0.373178  0.529851  0.521368  0.541667     0.518231   \n",
       "..                 ...         ...       ...       ...       ...          ...   \n",
       "200           0.157068    0.655977  0.711940  0.735043  0.641667     0.567882   \n",
       "201           0.157068    0.655977  0.711940  0.726496  0.641667     0.605508   \n",
       "202           0.157068    0.655977  0.711940  0.735043  0.641667     0.591156   \n",
       "203           0.157068    0.655977  0.711940  0.735043  0.641667     0.670675   \n",
       "204           0.157068    0.655977  0.711940  0.735043  0.641667     0.610551   \n",
       "\n",
       "     engine-size      bore    stroke  compression-rate  horsepower  peak-rpm  \\\n",
       "0       0.260377  0.664286  0.290476           0.12500    0.294393  0.346939   \n",
       "1       0.260377  0.664286  0.290476           0.12500    0.294393  0.346939   \n",
       "2       0.343396  0.100000  0.666667           0.12500    0.495327  0.346939   \n",
       "3       0.181132  0.464286  0.633333           0.18750    0.252336  0.551020   \n",
       "4       0.283019  0.464286  0.633333           0.06250    0.313084  0.551020   \n",
       "..           ...       ...       ...               ...         ...       ...   \n",
       "200     0.301887  0.885714  0.514286           0.15625    0.308411  0.510204   \n",
       "201     0.301887  0.885714  0.514286           0.10625    0.523364  0.469388   \n",
       "202     0.422642  0.742857  0.380952           0.11250    0.401869  0.551020   \n",
       "203     0.316981  0.335714  0.633333           1.00000    0.271028  0.265306   \n",
       "204     0.301887  0.885714  0.514286           0.15625    0.308411  0.510204   \n",
       "\n",
       "     city-mpg  highway-mpg    price  \n",
       "0    0.222222     0.289474  13495.0  \n",
       "1    0.222222     0.289474  16500.0  \n",
       "2    0.166667     0.263158  16500.0  \n",
       "3    0.305556     0.368421  13950.0  \n",
       "4    0.138889     0.157895  17450.0  \n",
       "..        ...          ...      ...  \n",
       "200  0.277778     0.315789  16845.0  \n",
       "201  0.166667     0.236842  19045.0  \n",
       "202  0.138889     0.184211  21485.0  \n",
       "203  0.361111     0.289474  22470.0  \n",
       "204  0.166667     0.236842  22625.0  \n",
       "\n",
       "[195 rows x 15 columns]"
      ]
     },
     "execution_count": 9,
     "metadata": {},
     "output_type": "execute_result"
    }
   ],
   "source": [
    "def normalize(df, features):\n",
    "    result = df.copy()\n",
    "    for feature_name in features:\n",
    "        max_value = df[feature_name].max()\n",
    "        min_value = df[feature_name].min()\n",
    "        df[feature_name] = (df[feature_name] - min_value) / (max_value - min_value)\n",
    "    return df\n",
    "\n",
    "features = ['normalized-losses', 'wheel-base', 'length',\n",
    "            'width', 'height', 'curb-weight', 'engine-size',\n",
    "            'bore', 'stroke', 'compression-rate',\n",
    "            'horsepower', 'peak-rpm', 'city-mpg', 'highway-mpg'\n",
    "]\n",
    "\n",
    "cars_numeric = normalize(cars_numeric, features)\n",
    "\n",
    "cars_numeric"
   ]
  },
  {
   "cell_type": "markdown",
   "metadata": {},
   "source": [
    "Hopefully that normalization was done correctly!!!"
   ]
  },
  {
   "cell_type": "code",
   "execution_count": 10,
   "metadata": {},
   "outputs": [
    {
     "data": {
      "text/plain": [
       "normalized-losses    0\n",
       "wheel-base           0\n",
       "length               0\n",
       "width                0\n",
       "height               0\n",
       "curb-weight          0\n",
       "engine-size          0\n",
       "bore                 0\n",
       "stroke               0\n",
       "compression-rate     0\n",
       "horsepower           0\n",
       "peak-rpm             0\n",
       "city-mpg             0\n",
       "highway-mpg          0\n",
       "price                0\n",
       "dtype: int64"
      ]
     },
     "execution_count": 10,
     "metadata": {},
     "output_type": "execute_result"
    }
   ],
   "source": [
    "cars_numeric.isnull().sum()"
   ]
  },
  {
   "cell_type": "code",
   "execution_count": 11,
   "metadata": {},
   "outputs": [
    {
     "name": "stdout",
     "output_type": "stream",
     "text": [
      "1.0\n",
      "1.0\n",
      "1.0\n",
      "1.0\n",
      "1.0\n",
      "1.0\n",
      "1.0\n",
      "1.0\n",
      "1.0\n",
      "1.0\n",
      "1.0\n",
      "1.0\n",
      "1.0\n",
      "1.0\n",
      "45400.0\n",
      "0.0\n",
      "0.0\n",
      "0.0\n",
      "0.0\n",
      "0.0\n",
      "0.0\n",
      "0.0\n",
      "0.0\n",
      "0.0\n",
      "0.0\n",
      "0.0\n",
      "0.0\n",
      "0.0\n",
      "0.0\n",
      "5118.0\n"
     ]
    }
   ],
   "source": [
    "for column in cars_numeric.columns:\n",
    "    print(cars_numeric[column].max())\n",
    "for column in cars_numeric.columns:\n",
    "    print(cars_numeric[column].min())"
   ]
  },
  {
   "cell_type": "markdown",
   "metadata": {},
   "source": [
    "Looks correct.\n",
    "\n",
    "And with that—we have a squeaky clean and polished dataset to use for some machine learning.\n",
    "\n",
    "# Machine Learning: Univariate KNN"
   ]
  },
  {
   "cell_type": "code",
   "execution_count": 12,
   "metadata": {},
   "outputs": [
    {
     "name": "stdout",
     "output_type": "stream",
     "text": [
      "{'normalized-losses': 9827.62200335444, 'wheel-base': 6352.634733040187, 'length': 7167.613517049864, 'width': 3588.7225963383385, 'height': 6590.154368140276, 'curb-weight': 2038.6268287596868, 'engine-size': 3564.610855024024, 'bore': 8327.983506472718, 'stroke': 7974.5191580714745, 'compression-rate': 5962.929579613411, 'horsepower': 3983.234793327593, 'peak-rpm': 7352.0242747373, 'city-mpg': 3416.9572079287627, 'highway-mpg': 2616.1674278631795}\n",
      "\n",
      "\n",
      "curb-weight\n"
     ]
    }
   ],
   "source": [
    "from sklearn.neighbors import KNeighborsRegressor\n",
    "from sklearn.metrics import mean_squared_error\n",
    "\n",
    "def knn_train_test(df, feature, target):\n",
    "    # Split data into training and test data\n",
    "    length = df.shape[0]\n",
    "    df_train = df.iloc[:(length*3) // 4]\n",
    "    df_test = df.iloc[(length*3) // 4:]\n",
    "    # Train and Predict\n",
    "    knn = KNeighborsRegressor(n_neighbors=5)\n",
    "    knn.fit(df_train[feature], df_train[target])\n",
    "    prediction = knn.predict(df_test[feature])\n",
    "    # Calculate RMSE\n",
    "    mse = mean_squared_error(df_test[target], prediction)\n",
    "    rmse = mse ** (1/2)\n",
    "    return rmse\n",
    "\n",
    "features = ['normalized-losses', 'wheel-base', 'length',\n",
    "            'width', 'height', 'curb-weight', 'engine-size',\n",
    "            'bore', 'stroke', 'compression-rate',\n",
    "            'horsepower', 'peak-rpm', 'city-mpg', 'highway-mpg'\n",
    "]\n",
    "target = 'price'\n",
    "\n",
    "\n",
    "k5_univariate_rmse = {feature: knn_train_test(cars_numeric, [feature], target) for feature in features}\n",
    "print(k5_univariate_rmse)\n",
    "print('\\n')\n",
    "# Minimum RMSE row that performed best for the default k value:\n",
    "print(min(k5_univariate_rmse, key=k5_univariate_rmse.get))"
   ]
  },
  {
   "cell_type": "markdown",
   "metadata": {},
   "source": [
    "the `curb-weight` column performed the best when the value of k was `5`.\n",
    "\n",
    "Next, we'll update our function to vary values of k.\n",
    "\n",
    "We'll also separate the data-splitting into a function of its own"
   ]
  },
  {
   "cell_type": "code",
   "execution_count": 13,
   "metadata": {
    "scrolled": true
   },
   "outputs": [
    {
     "data": {
      "text/html": [
       "<div>\n",
       "<style scoped>\n",
       "    .dataframe tbody tr th:only-of-type {\n",
       "        vertical-align: middle;\n",
       "    }\n",
       "\n",
       "    .dataframe tbody tr th {\n",
       "        vertical-align: top;\n",
       "    }\n",
       "\n",
       "    .dataframe thead th {\n",
       "        text-align: right;\n",
       "    }\n",
       "</style>\n",
       "<table border=\"1\" class=\"dataframe\">\n",
       "  <thead>\n",
       "    <tr style=\"text-align: right;\">\n",
       "      <th></th>\n",
       "      <th>k_value</th>\n",
       "      <th>feature</th>\n",
       "      <th>rmse</th>\n",
       "    </tr>\n",
       "  </thead>\n",
       "  <tbody>\n",
       "    <tr>\n",
       "      <th>6</th>\n",
       "      <td>1</td>\n",
       "      <td>engine-size</td>\n",
       "      <td>2579.307153</td>\n",
       "    </tr>\n",
       "    <tr>\n",
       "      <th>15</th>\n",
       "      <td>3</td>\n",
       "      <td>wheel-base</td>\n",
       "      <td>2720.826870</td>\n",
       "    </tr>\n",
       "    <tr>\n",
       "      <th>2</th>\n",
       "      <td>1</td>\n",
       "      <td>length</td>\n",
       "      <td>2786.243730</td>\n",
       "    </tr>\n",
       "    <tr>\n",
       "      <th>10</th>\n",
       "      <td>1</td>\n",
       "      <td>horsepower</td>\n",
       "      <td>3101.559252</td>\n",
       "    </tr>\n",
       "    <tr>\n",
       "      <th>20</th>\n",
       "      <td>3</td>\n",
       "      <td>engine-size</td>\n",
       "      <td>3159.057015</td>\n",
       "    </tr>\n",
       "  </tbody>\n",
       "</table>\n",
       "</div>"
      ],
      "text/plain": [
       "    k_value      feature         rmse\n",
       "6         1  engine-size  2579.307153\n",
       "15        3   wheel-base  2720.826870\n",
       "2         1       length  2786.243730\n",
       "10        1   horsepower  3101.559252\n",
       "20        3  engine-size  3159.057015"
      ]
     },
     "execution_count": 13,
     "metadata": {},
     "output_type": "execute_result"
    }
   ],
   "source": [
    "def data_split(df):\n",
    "    # Set seed so that the row shuffling is consistent\n",
    "    np.random.seed(1)\n",
    "    # Randomize indices \n",
    "    shuffled_index = np.random.permutation(df.index)\n",
    "    df_rand = df.reindex(shuffled_index)\n",
    "    # Split rows 75% 25%\n",
    "    length = df.shape[0]\n",
    "    df_train = df_rand.iloc[:(length*3) // 4]\n",
    "    df_test = df_rand.iloc[(length*3) // 4:]\n",
    "    return (df_train, df_test)\n",
    "\n",
    "def knn_train_test(df, k, feature, target):\n",
    "    # Split data into training and test data\n",
    "    df_train = data_split(df)[0]\n",
    "    df_test = data_split(df)[1]\n",
    "    # Train and Predict\n",
    "    knn = KNeighborsRegressor(n_neighbors=k)\n",
    "    knn.fit(df_train[feature], df_train[target])\n",
    "    prediction = knn.predict(df_test[feature])\n",
    "    # Calculate RMSE\n",
    "    mse = mean_squared_error(df_test[target], prediction)\n",
    "    rmse = mse ** (1/2)\n",
    "    return rmse\n",
    "\n",
    "k_values = range(1, 10, 2)\n",
    "\n",
    "# We want to list all possible combinations\n",
    "# of k values and features to use.\n",
    "# Since our model is univariate, we only\n",
    "# need combinations that are length 2\n",
    "from itertools import product\n",
    "\n",
    "k_feature_product = tuple(product(k_values, features))\n",
    "\n",
    "rmse_evaluated = pd.DataFrame(\n",
    "    data={\n",
    "        'k_value': [k for k, feature in k_feature_product],\n",
    "        'feature': [feature for k, feature in k_feature_product],\n",
    "        'rmse': [\n",
    "            knn_train_test(\n",
    "            cars_numeric, k, [feature], target\n",
    "            ) for k, feature in k_feature_product\n",
    "        ]\n",
    "    }\n",
    ")\n",
    "\n",
    "rmse_evaluated.sort_values('rmse').head()"
   ]
  },
  {
   "cell_type": "markdown",
   "metadata": {},
   "source": [
    "At this stage, we should attempt to quantify which features perform best at prediction, that way we can narrow down which features we should explore for use in multivariate models. We'll choose the five best features and we'll say a feature \"performs well\" if it has a low average RMSE value for all k values we are using."
   ]
  },
  {
   "cell_type": "code",
   "execution_count": 14,
   "metadata": {
    "scrolled": true
   },
   "outputs": [
    {
     "data": {
      "text/html": [
       "<div>\n",
       "<style scoped>\n",
       "    .dataframe tbody tr th:only-of-type {\n",
       "        vertical-align: middle;\n",
       "    }\n",
       "\n",
       "    .dataframe tbody tr th {\n",
       "        vertical-align: top;\n",
       "    }\n",
       "\n",
       "    .dataframe thead th {\n",
       "        text-align: right;\n",
       "    }\n",
       "</style>\n",
       "<table border=\"1\" class=\"dataframe\">\n",
       "  <thead>\n",
       "    <tr style=\"text-align: right;\">\n",
       "      <th></th>\n",
       "      <th>rmse</th>\n",
       "    </tr>\n",
       "    <tr>\n",
       "      <th>feature</th>\n",
       "      <th></th>\n",
       "    </tr>\n",
       "  </thead>\n",
       "  <tbody>\n",
       "    <tr>\n",
       "      <th>engine-size</th>\n",
       "      <td>3297.824380</td>\n",
       "    </tr>\n",
       "    <tr>\n",
       "      <th>length</th>\n",
       "      <td>3590.090713</td>\n",
       "    </tr>\n",
       "    <tr>\n",
       "      <th>wheel-base</th>\n",
       "      <td>3754.958064</td>\n",
       "    </tr>\n",
       "    <tr>\n",
       "      <th>city-mpg</th>\n",
       "      <td>3844.973690</td>\n",
       "    </tr>\n",
       "    <tr>\n",
       "      <th>width</th>\n",
       "      <td>3894.302001</td>\n",
       "    </tr>\n",
       "  </tbody>\n",
       "</table>\n",
       "</div>"
      ],
      "text/plain": [
       "                    rmse\n",
       "feature                 \n",
       "engine-size  3297.824380\n",
       "length       3590.090713\n",
       "wheel-base   3754.958064\n",
       "city-mpg     3844.973690\n",
       "width        3894.302001"
      ]
     },
     "execution_count": 14,
     "metadata": {},
     "output_type": "execute_result"
    }
   ],
   "source": [
    "rmse_evaluated.drop(columns='k_value').groupby(\n",
    "    'feature').agg(np.mean).sort_values('rmse').head()"
   ]
  },
  {
   "cell_type": "code",
   "execution_count": 15,
   "metadata": {},
   "outputs": [
    {
     "data": {
      "text/plain": [
       "('engine-size', 'length', 'wheel-base', 'city-mpg', 'width')"
      ]
     },
     "execution_count": 15,
     "metadata": {},
     "output_type": "execute_result"
    }
   ],
   "source": [
    "top5_features = tuple(rmse_evaluated.drop(columns='k_value').groupby(\n",
    "    'feature').agg(np.mean).sort_values('rmse').head(5).index)\n",
    "top5_features"
   ]
  },
  {
   "cell_type": "code",
   "execution_count": 16,
   "metadata": {
    "scrolled": false
   },
   "outputs": [
    {
     "data": {
      "text/plain": [
       "<matplotlib.legend.Legend at 0x1b77e700>"
      ]
     },
     "execution_count": 16,
     "metadata": {},
     "output_type": "execute_result"
    },
    {
     "data": {
      "image/png": "[encoded data removed]",
      "text/plain": [
       "<Figure size 432x288 with 1 Axes>"
      ]
     },
     "metadata": {
      "needs_background": "light"
     },
     "output_type": "display_data"
    }
   ],
   "source": [
    "import matplotlib.pyplot as plt\n",
    "%matplotlib inline\n",
    "\n",
    "ax=plt.axes()\n",
    "for feature in top5_features:\n",
    "    rmse_evaluated.loc[rmse_evaluated['feature'] == feature].plot(x='k_value', y='rmse', ax=ax, label=feature)\n",
    "ax.legend(bbox_to_anchor=(1.4, 1))"
   ]
  },
  {
   "cell_type": "markdown",
   "metadata": {},
   "source": [
    "## Observations\n",
    "\n",
    "In our univariate model, the `engine-size` column with a k value of `1` was the best predictor of price. This might make a good amount of sense, as engines are very expensive; cars tend to get more expensive as they get larger, and a requirement for a larger vehicle is a larger engine to move the load.\n",
    "\n",
    "When we measure by a better heuristic such as \"average RMSE over multiple k values\", the top five features are: `engine-size`, `length`, `wheel-base`, `city-mpg`, and `width` in that order.\n",
    "\n",
    "\n",
    "Next, we'll modify our `knn_train_test()` function to be multivariate; we'll let it use multiple columns, and we'll go back to using just a k value of 5.\n",
    "\n",
    "# Machine Learning: Multivariate KNN"
   ]
  },
  {
   "cell_type": "code",
   "execution_count": 17,
   "metadata": {
    "scrolled": false
   },
   "outputs": [
    {
     "data": {
      "text/html": [
       "<div>\n",
       "<style scoped>\n",
       "    .dataframe tbody tr th:only-of-type {\n",
       "        vertical-align: middle;\n",
       "    }\n",
       "\n",
       "    .dataframe tbody tr th {\n",
       "        vertical-align: top;\n",
       "    }\n",
       "\n",
       "    .dataframe thead th {\n",
       "        text-align: right;\n",
       "    }\n",
       "</style>\n",
       "<table border=\"1\" class=\"dataframe\">\n",
       "  <thead>\n",
       "    <tr style=\"text-align: right;\">\n",
       "      <th></th>\n",
       "      <th>feature_list</th>\n",
       "      <th>rmse</th>\n",
       "    </tr>\n",
       "  </thead>\n",
       "  <tbody>\n",
       "    <tr>\n",
       "      <th>3</th>\n",
       "      <td>[engine-size, length, wheel-base, city-mpg, wi...</td>\n",
       "      <td>2837.763094</td>\n",
       "    </tr>\n",
       "    <tr>\n",
       "      <th>1</th>\n",
       "      <td>[engine-size, length, wheel-base]</td>\n",
       "      <td>2995.025292</td>\n",
       "    </tr>\n",
       "    <tr>\n",
       "      <th>0</th>\n",
       "      <td>[engine-size, length]</td>\n",
       "      <td>3112.961770</td>\n",
       "    </tr>\n",
       "    <tr>\n",
       "      <th>2</th>\n",
       "      <td>[engine-size, length, wheel-base, city-mpg]</td>\n",
       "      <td>3309.200520</td>\n",
       "    </tr>\n",
       "  </tbody>\n",
       "</table>\n",
       "</div>"
      ],
      "text/plain": [
       "                                        feature_list         rmse\n",
       "3  [engine-size, length, wheel-base, city-mpg, wi...  2837.763094\n",
       "1                  [engine-size, length, wheel-base]  2995.025292\n",
       "0                              [engine-size, length]  3112.961770\n",
       "2        [engine-size, length, wheel-base, city-mpg]  3309.200520"
      ]
     },
     "execution_count": 17,
     "metadata": {},
     "output_type": "execute_result"
    }
   ],
   "source": [
    "def knn_train_test(df, features, target):\n",
    "    # Split data into training and test data\n",
    "    data_splitted = data_split(df)\n",
    "    df_train = data_splitted[0]\n",
    "    df_test = data_splitted[1]\n",
    "    # Train and Predict\n",
    "    knn = KNeighborsRegressor(n_neighbors=5)\n",
    "    knn.fit(df_train[features], df_train[target])\n",
    "    prediction = knn.predict(df_test[features])\n",
    "    # Calculate RMSE\n",
    "    mse = mean_squared_error(df_test[target], prediction)\n",
    "    rmse = mse ** (1/2)\n",
    "    return rmse\n",
    "\n",
    "# We want to make lists of best features\n",
    "# that are lengths 2, 3, 4, and 5\n",
    "# to use in our evaluations\n",
    "best_features_combinations = [list(top5_features[:x]) for x in range(2, 6)]\n",
    "\n",
    "rmse_evaluated = pd.DataFrame(\n",
    "    data={\n",
    "        'feature_list': [\n",
    "            feature_list for feature_list in best_features_combinations\n",
    "        ],\n",
    "        'rmse': [\n",
    "            knn_train_test(cars_numeric, feature_list, target) for feature_list in best_features_combinations\n",
    "        ]\n",
    "    }\n",
    ")\n",
    "rmse_evaluated.sort_values('rmse')"
   ]
  },
  {
   "cell_type": "code",
   "execution_count": 18,
   "metadata": {
    "scrolled": true
   },
   "outputs": [
    {
     "data": {
      "image/png": "[encoded data removed]",
      "text/plain": [
       "<Figure size 432x288 with 1 Axes>"
      ]
     },
     "metadata": {
      "needs_background": "light"
     },
     "output_type": "display_data"
    }
   ],
   "source": [
    "ax=plt.axes()\n",
    "\n",
    "rmse_evaluated.plot.bar(x='feature_list', y='rmse', ax=ax)\n",
    "\n",
    "ax.set_ylim(2500,4000)\n",
    "ax.get_legend().remove()"
   ]
  },
  {
   "cell_type": "markdown",
   "metadata": {},
   "source": [
    "## Observations\n",
    "\n",
    "It seems that all 5 best features,`engine-size`, `length`, `wheel-base`, `city-mpg`, and `width` together, do best if we only use a k value of 5. We'd expect that more features would do better than a single feature, and this seems to be the case, though our 4 best features together performed the worst."
   ]
  },
  {
   "cell_type": "markdown",
   "metadata": {},
   "source": [
    "Next, we'll take the best three multivariate models we have so far and find the optimal k values for them.\n",
    "\n",
    "# Machine Learning: KNN Hyperparameter Tuning"
   ]
  },
  {
   "cell_type": "code",
   "execution_count": 19,
   "metadata": {},
   "outputs": [],
   "source": [
    "worst_model_feature_list = rmse_evaluated.sort_values('rmse').iloc[-1]['feature_list']\n",
    "\n",
    "best_features_combinations.remove(\n",
    "    worst_model_feature_list\n",
    ")"
   ]
  },
  {
   "cell_type": "code",
   "execution_count": 20,
   "metadata": {},
   "outputs": [
    {
     "data": {
      "text/plain": [
       "[['engine-size', 'length'],\n",
       " ['engine-size', 'length', 'wheel-base'],\n",
       " ['engine-size', 'length', 'wheel-base', 'city-mpg', 'width']]"
      ]
     },
     "execution_count": 20,
     "metadata": {},
     "output_type": "execute_result"
    }
   ],
   "source": [
    "best_features_combinations"
   ]
  },
  {
   "cell_type": "code",
   "execution_count": 21,
   "metadata": {
    "scrolled": false
   },
   "outputs": [
    {
     "data": {
      "text/html": [
       "<div>\n",
       "<style scoped>\n",
       "    .dataframe tbody tr th:only-of-type {\n",
       "        vertical-align: middle;\n",
       "    }\n",
       "\n",
       "    .dataframe tbody tr th {\n",
       "        vertical-align: top;\n",
       "    }\n",
       "\n",
       "    .dataframe thead th {\n",
       "        text-align: right;\n",
       "    }\n",
       "</style>\n",
       "<table border=\"1\" class=\"dataframe\">\n",
       "  <thead>\n",
       "    <tr style=\"text-align: right;\">\n",
       "      <th></th>\n",
       "      <th>feature_list</th>\n",
       "      <th>k_value</th>\n",
       "      <th>rmse</th>\n",
       "    </tr>\n",
       "  </thead>\n",
       "  <tbody>\n",
       "    <tr>\n",
       "      <th>2</th>\n",
       "      <td>(engine-size, length, wheel-base, city-mpg, wi...</td>\n",
       "      <td>1</td>\n",
       "      <td>2087.123663</td>\n",
       "    </tr>\n",
       "    <tr>\n",
       "      <th>5</th>\n",
       "      <td>(engine-size, length, wheel-base, city-mpg, wi...</td>\n",
       "      <td>2</td>\n",
       "      <td>2221.138071</td>\n",
       "    </tr>\n",
       "    <tr>\n",
       "      <th>8</th>\n",
       "      <td>(engine-size, length, wheel-base, city-mpg, wi...</td>\n",
       "      <td>3</td>\n",
       "      <td>2489.256633</td>\n",
       "    </tr>\n",
       "    <tr>\n",
       "      <th>3</th>\n",
       "      <td>(engine-size, length)</td>\n",
       "      <td>2</td>\n",
       "      <td>2526.611370</td>\n",
       "    </tr>\n",
       "    <tr>\n",
       "      <th>11</th>\n",
       "      <td>(engine-size, length, wheel-base, city-mpg, wi...</td>\n",
       "      <td>4</td>\n",
       "      <td>2680.517411</td>\n",
       "    </tr>\n",
       "    <tr>\n",
       "      <th>...</th>\n",
       "      <td>...</td>\n",
       "      <td>...</td>\n",
       "      <td>...</td>\n",
       "    </tr>\n",
       "    <tr>\n",
       "      <th>64</th>\n",
       "      <td>(engine-size, length, wheel-base)</td>\n",
       "      <td>22</td>\n",
       "      <td>4123.367516</td>\n",
       "    </tr>\n",
       "    <tr>\n",
       "      <th>54</th>\n",
       "      <td>(engine-size, length)</td>\n",
       "      <td>19</td>\n",
       "      <td>4132.209152</td>\n",
       "    </tr>\n",
       "    <tr>\n",
       "      <th>67</th>\n",
       "      <td>(engine-size, length, wheel-base)</td>\n",
       "      <td>23</td>\n",
       "      <td>4178.562269</td>\n",
       "    </tr>\n",
       "    <tr>\n",
       "      <th>70</th>\n",
       "      <td>(engine-size, length, wheel-base)</td>\n",
       "      <td>24</td>\n",
       "      <td>4215.532780</td>\n",
       "    </tr>\n",
       "    <tr>\n",
       "      <th>73</th>\n",
       "      <td>(engine-size, length, wheel-base)</td>\n",
       "      <td>25</td>\n",
       "      <td>4267.266298</td>\n",
       "    </tr>\n",
       "  </tbody>\n",
       "</table>\n",
       "<p>75 rows × 3 columns</p>\n",
       "</div>"
      ],
      "text/plain": [
       "                                         feature_list  k_value         rmse\n",
       "2   (engine-size, length, wheel-base, city-mpg, wi...        1  2087.123663\n",
       "5   (engine-size, length, wheel-base, city-mpg, wi...        2  2221.138071\n",
       "8   (engine-size, length, wheel-base, city-mpg, wi...        3  2489.256633\n",
       "3                               (engine-size, length)        2  2526.611370\n",
       "11  (engine-size, length, wheel-base, city-mpg, wi...        4  2680.517411\n",
       "..                                                ...      ...          ...\n",
       "64                  (engine-size, length, wheel-base)       22  4123.367516\n",
       "54                              (engine-size, length)       19  4132.209152\n",
       "67                  (engine-size, length, wheel-base)       23  4178.562269\n",
       "70                  (engine-size, length, wheel-base)       24  4215.532780\n",
       "73                  (engine-size, length, wheel-base)       25  4267.266298\n",
       "\n",
       "[75 rows x 3 columns]"
      ]
     },
     "execution_count": 21,
     "metadata": {},
     "output_type": "execute_result"
    }
   ],
   "source": [
    "# Add back the ability to evaluate different k values\n",
    "\n",
    "\n",
    "def knn_train_test(df, k, features, target):\n",
    "    # Split data into training and test data\n",
    "    data_splitted = data_split(df)\n",
    "    df_train = data_splitted[0]\n",
    "    df_test = data_splitted[1]\n",
    "    # Train and Predict\n",
    "    knn = KNeighborsRegressor(n_neighbors=k)\n",
    "    knn.fit(df_train[features], df_train[target])\n",
    "    prediction = knn.predict(df_test[features])\n",
    "    # Calculate RMSE\n",
    "    mse = mean_squared_error(df_test[target], prediction)\n",
    "    rmse = mse ** (1/2)\n",
    "    return rmse\n",
    "\n",
    "# We'll combine our last two approaches\n",
    "k_values = range(1, 26)\n",
    "k_features_product = tuple(product(k_values, best_features_combinations))\n",
    "\n",
    "rmse_evaluated = pd.DataFrame(\n",
    "    data={\n",
    "        'feature_list': [\n",
    "            tuple(feature_list) for k_value, feature_list in k_features_product\n",
    "        ],\n",
    "        'k_value': [\n",
    "            k_value for k_value, feature_list in k_features_product\n",
    "        ],\n",
    "        'rmse': [\n",
    "            knn_train_test(cars_numeric, k_value, feature_list, target) for k_value, feature_list in k_features_product\n",
    "        ]\n",
    "    }\n",
    ")\n",
    "rmse_evaluated.sort_values('rmse')"
   ]
  },
  {
   "cell_type": "code",
   "execution_count": 22,
   "metadata": {
    "scrolled": true
   },
   "outputs": [
    {
     "data": {
      "text/html": [
       "<div>\n",
       "<style scoped>\n",
       "    .dataframe tbody tr th:only-of-type {\n",
       "        vertical-align: middle;\n",
       "    }\n",
       "\n",
       "    .dataframe tbody tr th {\n",
       "        vertical-align: top;\n",
       "    }\n",
       "\n",
       "    .dataframe thead th {\n",
       "        text-align: right;\n",
       "    }\n",
       "</style>\n",
       "<table border=\"1\" class=\"dataframe\">\n",
       "  <thead>\n",
       "    <tr style=\"text-align: right;\">\n",
       "      <th></th>\n",
       "      <th>feature_list</th>\n",
       "      <th>k_value</th>\n",
       "      <th>rmse</th>\n",
       "    </tr>\n",
       "  </thead>\n",
       "  <tbody>\n",
       "    <tr>\n",
       "      <th>2</th>\n",
       "      <td>(engine-size, length, wheel-base, city-mpg, wi...</td>\n",
       "      <td>1</td>\n",
       "      <td>2087.123663</td>\n",
       "    </tr>\n",
       "    <tr>\n",
       "      <th>3</th>\n",
       "      <td>(engine-size, length)</td>\n",
       "      <td>2</td>\n",
       "      <td>2526.611370</td>\n",
       "    </tr>\n",
       "    <tr>\n",
       "      <th>10</th>\n",
       "      <td>(engine-size, length, wheel-base)</td>\n",
       "      <td>4</td>\n",
       "      <td>2748.560012</td>\n",
       "    </tr>\n",
       "  </tbody>\n",
       "</table>\n",
       "</div>"
      ],
      "text/plain": [
       "                                         feature_list  k_value         rmse\n",
       "2   (engine-size, length, wheel-base, city-mpg, wi...        1  2087.123663\n",
       "3                               (engine-size, length)        2  2526.611370\n",
       "10                  (engine-size, length, wheel-base)        4  2748.560012"
      ]
     },
     "execution_count": 22,
     "metadata": {},
     "output_type": "execute_result"
    }
   ],
   "source": [
    "best_rmse_values = rmse_evaluated.drop(columns='k_value').groupby('feature_list').agg(min)['rmse']\n",
    "\n",
    "\n",
    "list_of_dataframes = dfl = [rmse_evaluated.loc[rmse_evaluated['rmse'] == best_rmse_values[index]] for index in range(3)]\n",
    "\n",
    "\n",
    "best_rmse_values = pd.concat([dfl[0], dfl[1], dfl[2]])\n",
    "best_rmse_values.sort_values('rmse')"
   ]
  },
  {
   "cell_type": "code",
   "execution_count": 23,
   "metadata": {
    "scrolled": false
   },
   "outputs": [
    {
     "data": {
      "text/plain": [
       "Text(0.5, 1.0, 'RMSE error')"
      ]
     },
     "execution_count": 23,
     "metadata": {},
     "output_type": "execute_result"
    },
    {
     "data": {
      "image/png": "[encoded data removed]",
      "text/plain": [
       "<Figure size 432x288 with 1 Axes>"
      ]
     },
     "metadata": {
      "needs_background": "light"
     },
     "output_type": "display_data"
    }
   ],
   "source": [
    "ax=plt.axes()\n",
    "for feature_list in best_features_combinations:\n",
    "    rmse_evaluated[rmse_evaluated['feature_list'].apply(len) == len(feature_list)].plot(x='k_value', y='rmse', ax=ax, label=tuple(feature_list))\n",
    "ax.legend(bbox_to_anchor=(1, -0.125))\n",
    "plt.title('RMSE error')"
   ]
  },
  {
   "cell_type": "markdown",
   "metadata": {},
   "source": [
    "## Observations\n",
    "\n",
    "The optimal k values for the best two features, best three features, and best five features are `2`, `4`, and `1` respectively.\n",
    "\n",
    "There isn't much difference between the k values that perform well. With this dataset, low k values have been performing consistently well.\n",
    "\n",
    "It seems like with less data and with more relevant data, lower k values perform better. It could also just be random chance depending on how the data set is shuffled.\n",
    "\n",
    "So as your amount of data increases and as the relevancy decreases, the optimal k value increases, and as the amount of data decreases and the relevancy increases, the optimal k value decreases."
   ]
  },
  {
   "cell_type": "markdown",
   "metadata": {},
   "source": [
    "# Further Studies\n",
    "\n",
    "We didn't cover everything about KNN models in this notebook, but some further exploration might involve:\n",
    "\n",
    "* Modify `knn_train_test()` to use k-fold cross validation\n",
    "* Modify `knn_train_test()` to perform all data cleaning automatically."
   ]
  }
 ],
 "metadata": {
  "kernelspec": {
   "display_name": "Python 3",
   "language": "python",
   "name": "python3"
  },
  "language_info": {
   "codemirror_mode": {
    "name": "ipython",
    "version": 3
   },
   "file_extension": ".py",
   "mimetype": "text/x-python",
   "name": "python",
   "nbconvert_exporter": "python",
   "pygments_lexer": "ipython3",
   "version": "3.8.8"
  }
 },
 "nbformat": 4,
 "nbformat_minor": 2
}
